{
 "cells": [
  {
   "cell_type": "markdown",
   "id": "06c7bbd7-abd2-4a1d-9785-e49f31fefff3",
   "metadata": {
    "jp-MarkdownHeadingCollapsed": true
   },
   "source": [
    "# Bibliotecas"
   ]
  },
  {
   "cell_type": "code",
   "execution_count": 68,
   "id": "51acbafd-1614-445f-b320-3959f4f28141",
   "metadata": {},
   "outputs": [],
   "source": [
    "import pandas as pd\n",
    "import requests\n",
    "import json\n",
    "import os\n",
    "from datetime import datetime\n",
    "import time\n",
    "import aiohttp # OBRIGATÓRIO: Precisa instalar o pacote, segue o comando da instalação: pip install aiohttp\n",
    "import asyncio # OBRIGATÓRIO: Precisa instalar o pacote, segue o comando da instalação: pip install asyncio\n",
    "import glob\n",
    "import re\n",
    "import numpy as np\n",
    "import warnings\n",
    "\n",
    "warnings.filterwarnings('ignore')\n",
    "pd.set_option('display.float_format', str)"
   ]
  },
  {
   "cell_type": "markdown",
   "id": "2bba6537-6e31-4edc-b724-4d14bb2a693a",
   "metadata": {},
   "source": [
    "# Início Log"
   ]
  },
  {
   "cell_type": "code",
   "execution_count": 69,
   "id": "7ad5bbd6-5c50-4eec-8dce-b1f3e5f86413",
   "metadata": {},
   "outputs": [],
   "source": [
    "main_start = time.time()"
   ]
  },
  {
   "cell_type": "markdown",
   "id": "6eb99c1b-c187-4018-9ac7-08d741c27d2e",
   "metadata": {},
   "source": [
    "## Parâmetros"
   ]
  },
  {
   "cell_type": "code",
   "execution_count": 70,
   "id": "8141a006-e38b-4f38-baf1-df21d4dada77",
   "metadata": {},
   "outputs": [],
   "source": [
    "data_ingestao = datetime.today().strftime('%Y%m%d')\n",
    "\n",
    "diretorio_bronze = 'dados/bronze'\n",
    "bronze_localidades =  diretorio_bronze + '/localidades'\n",
    "bronze_idh = diretorio_bronze +'/idh'\n",
    "bronze_populacao = diretorio_bronze +'/populacao'\n",
    "bronze_pib = diretorio_bronze +'/pib'\n",
    "\n",
    "diretorio_prata = 'dados/prata'\n",
    "prata_localidades =  diretorio_prata + '/localidades'\n",
    "prata_idh = diretorio_prata +'/idh'\n",
    "prata_populacao = diretorio_prata +'/populacao'\n",
    "prata_pib = diretorio_prata +'/pib'\n",
    "\n",
    "diretorio_ouro = 'dados/ouro'"
   ]
  },
  {
   "cell_type": "markdown",
   "id": "f12ab2b2-9774-4202-8bfe-b40c30001d41",
   "metadata": {
    "jp-MarkdownHeadingCollapsed": true
   },
   "source": [
    "# Camada Bronze"
   ]
  },
  {
   "cell_type": "markdown",
   "id": "29e8e54c-be71-4f2b-8eba-487a9e39ee57",
   "metadata": {},
   "source": [
    "### Funções"
   ]
  },
  {
   "cell_type": "code",
   "execution_count": 71,
   "id": "8566dbc9-1982-41d2-8ecf-448bb66044f4",
   "metadata": {},
   "outputs": [],
   "source": [
    "async def SalvarIbgeJson(diretorio, nome, dados):\n",
    "    try:\n",
    "    \n",
    "        if not os.path.exists(diretorio):\n",
    "            try:\n",
    "                os.makedirs(diretorio)\n",
    "            except Exception as e:\n",
    "                raise\n",
    "        with open(os.path.join(diretorio, nome+'.json'), 'w') as f:\n",
    "            json.dump(dados, f, ensure_ascii=False, indent=4)\n",
    "    \n",
    "        return 'Json salvo'\n",
    "        \n",
    "    except:\n",
    "        return 'Json não salvo: ' + e  "
   ]
  },
  {
   "cell_type": "code",
   "execution_count": 72,
   "id": "20621c2c-623a-4e40-beae-f5c6e6ef31a4",
   "metadata": {},
   "outputs": [],
   "source": [
    "# Consulta a api do IBGE\n",
    "async def ConsultaIbgeJson(url):\n",
    "    try:\n",
    "        response = requests.get(url)\n",
    "        return response.json()\n",
    "    except Exception as e:\n",
    "        return 'Api erro: '+ e  "
   ]
  },
  {
   "cell_type": "markdown",
   "id": "034f784e-b319-446d-9258-132a20960e65",
   "metadata": {},
   "source": [
    "## Localidades"
   ]
  },
  {
   "cell_type": "markdown",
   "id": "e163a595-3d16-49ef-ae89-40b7feea5723",
   "metadata": {},
   "source": [
    "### Estado"
   ]
  },
  {
   "cell_type": "code",
   "execution_count": 73,
   "id": "379f61a7-f3d7-4578-a60a-a621390a95c1",
   "metadata": {},
   "outputs": [
    {
     "data": {
      "text/plain": [
       "'Json salvo'"
      ]
     },
     "execution_count": 73,
     "metadata": {},
     "output_type": "execute_result"
    }
   ],
   "source": [
    "# Realizando  consulta no IBGE os dados dos estados brasileiros \n",
    "url = f\"https://servicodados.ibge.gov.br/api/v1/localidades/estados?orderBy=nome\"\n",
    "ibge_estados = await ConsultaIbgeJson(url)\n",
    "\n",
    "# Salvar os dados dos estados na camada bronze\n",
    "await SalvarIbgeJson(bronze_localidades,data_ingestao+'_estados',ibge_estados)"
   ]
  },
  {
   "cell_type": "code",
   "execution_count": 74,
   "id": "97308d83-69e6-444d-bb84-5e5c20838e85",
   "metadata": {},
   "outputs": [],
   "source": [
    "df_estados = pd.json_normalize(ibge_estados)\n",
    "df_estados = df_estados[['id','sigla']]"
   ]
  },
  {
   "cell_type": "markdown",
   "id": "c06b87c0-fe37-48ba-9ab0-de9a072f3dde",
   "metadata": {},
   "source": [
    "### Municípios"
   ]
  },
  {
   "cell_type": "code",
   "execution_count": 75,
   "id": "b1bc554b-52d7-42ce-bf04-b4097de62e6d",
   "metadata": {},
   "outputs": [],
   "source": [
    "async def SalvarLocalidadesEstados(respJson):\n",
    "    uf = pd.json_normalize(respJson[0])\n",
    "    uf = uf['microrregiao.mesorregiao.UF.sigla'][0]\n",
    "    await SalvarIbgeJson(bronze_localidades+'/municipios',data_ingestao + '_'+ uf,respJson)  "
   ]
  },
  {
   "cell_type": "code",
   "execution_count": 76,
   "id": "bccfba51-bbdc-4954-869c-7bf21300cbe9",
   "metadata": {},
   "outputs": [],
   "source": [
    "async def GetLocalidadesEstados(url, session):\n",
    "    try:\n",
    "        async with session.get(url=url) as response:\n",
    "            resp = await response.json()\n",
    "            await SalvarLocalidadesEstados(resp)\n",
    "    except Exception as e:\n",
    "        print(\"Erro de consultar a url {} erro para {}.\".format(url, e.__class__))"
   ]
  },
  {
   "cell_type": "code",
   "execution_count": 77,
   "id": "512480b1-11cb-483d-91c5-0605d2e055cf",
   "metadata": {},
   "outputs": [],
   "source": [
    "async def MainLocalidadesEstados(urls):\n",
    "    async with aiohttp.ClientSession() as session:\n",
    "        ret = await asyncio.gather(*[GetLocalidadesEstados(url, session) for url in urls])  "
   ]
  },
  {
   "cell_type": "code",
   "execution_count": 78,
   "id": "69721bce-6886-443e-b68d-9645d20f8ce8",
   "metadata": {},
   "outputs": [
    {
     "name": "stdout",
     "output_type": "stream",
     "text": [
      "Tempo de consulta 3.5157227516174316 segundos para consultar as 27 urls.\n"
     ]
    }
   ],
   "source": [
    "# Realizando consulta no IBGE os dados dos munícipios de cada estado do brasil  \n",
    "urls = []\n",
    "for index, estado in df_estados.iterrows():\n",
    "    url = f\"https://servicodados.ibge.gov.br/api/v1/localidades/estados/\"+ str(estado['id'])+\"/municipios\"\n",
    "    urls.append(url)    \n",
    "\n",
    "start = time.time()\n",
    "await MainLocalidadesEstados(urls)\n",
    "end = time.time()\n",
    "print(\"Tempo de consulta {} segundos para consultar as {} urls.\".format(end - start, len(urls)))"
   ]
  },
  {
   "cell_type": "markdown",
   "id": "a2b0dd55-ac2b-45f3-a822-6f7bee8fb0f1",
   "metadata": {},
   "source": [
    "## População"
   ]
  },
  {
   "cell_type": "markdown",
   "id": "85db33a0-5646-4261-abf4-47a220d88cb4",
   "metadata": {},
   "source": [
    "### Cor e Raça"
   ]
  },
  {
   "cell_type": "code",
   "execution_count": 79,
   "id": "f0c9d650-3fd7-4ad3-9648-68bf5e7b2992",
   "metadata": {},
   "outputs": [],
   "source": [
    "async def SalvarPopulacaoCorRaca(respJson):\n",
    "    dfPopulacaoCorRaca = pd.json_normalize(respJson)   \n",
    "    municipio = dfPopulacaoCorRaca[dfPopulacaoCorRaca['NC'] == '6']['D1C'].iloc[0]\n",
    "    uf = dfPopulacaoCorRaca[dfPopulacaoCorRaca['NC'] == '3']['D1C'].iloc[0]\n",
    "    uf = df_estados[df_estados['id'] == int(uf)]['sigla'].iloc[0]\n",
    "    \n",
    "    ret = await SalvarIbgeJson(bronze_populacao + '/estados/'+ uf + '/municipios/' + municipio \\\n",
    "            ,data_ingestao + '_populacao_cor_raca_'+str(municipio),respJson) \n",
    "    return ret"
   ]
  },
  {
   "cell_type": "code",
   "execution_count": 80,
   "id": "b9c281c0-533c-4ace-8d8c-9007bc3e5646",
   "metadata": {},
   "outputs": [],
   "source": [
    "async def GetPopulacaoCorRaca(url, session):\n",
    "    try:\n",
    "        async with session.get(url=url) as response:\n",
    "            resp = await response.json()\n",
    "        return await SalvarPopulacaoCorRaca(resp)\n",
    "    except Exception as e:\n",
    "        print(\"Erro de consultar a url {} erro para {}.\".format(url, e.__class__))"
   ]
  },
  {
   "cell_type": "code",
   "execution_count": 81,
   "id": "5580eb57-d47d-41ba-9761-15aae9630b40",
   "metadata": {},
   "outputs": [],
   "source": [
    "async def MainPopulacaoCorRaca(urls):\n",
    "    async with aiohttp.ClientSession() as session:\n",
    "        ret = await asyncio.gather(*[GetPopulacaoCorRaca(url, session) for url in urls])\n",
    "    return ret"
   ]
  },
  {
   "cell_type": "code",
   "execution_count": 82,
   "id": "c6511230-ae70-4409-a9f7-fcb432119cd9",
   "metadata": {},
   "outputs": [
    {
     "name": "stdout",
     "output_type": "stream",
     "text": [
      "Tempo de consulta 54.153632164001465 segundos para consultar as 5570 urls.\n"
     ]
    }
   ],
   "source": [
    "urls = []\n",
    "for index, estado in df_estados.iterrows():\n",
    "    \n",
    "    diretorio_estado = bronze_localidades +'/municipios/'+ data_ingestao + '_' + estado['sigla'] + '.json'\n",
    "    with open(diretorio_estado) as f:\n",
    "        municipios = json.load(f)\n",
    "        municipios = pd.json_normalize(municipios)\n",
    "        municipios = municipios['id']\n",
    "\n",
    "        for municipio in municipios:\n",
    "            url = f\"https://apisidra.ibge.gov.br/values/t/9605/n1/1/n3/\"+ str(estado['id']) +\"/n6/\" + str(municipio) +\"/v/93/p/all/c86/all\"\n",
    "            urls.append(url)\n",
    "\n",
    "start = time.time()\n",
    "ret = await MainPopulacaoCorRaca(urls)\n",
    "end = time.time()\n",
    "print(\"Tempo de consulta {} segundos para consultar as {} urls.\".format(end - start, len(urls)))"
   ]
  },
  {
   "cell_type": "markdown",
   "id": "66379780-046d-4688-9ef8-cff074f64a4c",
   "metadata": {},
   "source": [
    "### Sexo e Range de Idade"
   ]
  },
  {
   "cell_type": "code",
   "execution_count": 83,
   "id": "3fa3466a-51ec-465f-85d4-0fdb5ad2f0ed",
   "metadata": {},
   "outputs": [],
   "source": [
    "async def SalvarPopulacaoSexoRangeIdade(respJson):\n",
    "    dfPopulacaoSexoRangeIdade = pd.json_normalize(respJson)   \n",
    "    municipio = dfPopulacaoSexoRangeIdade[dfPopulacaoSexoRangeIdade['NC'] == '6']['D1C'].iloc[0]\n",
    "    uf = dfPopulacaoSexoRangeIdade[dfPopulacaoSexoRangeIdade['NC'] == '3']['D1C'].iloc[0]\n",
    "    uf = df_estados[df_estados['id'] == int(uf)]['sigla'].iloc[0]\n",
    "    \n",
    "    ret = await SalvarIbgeJson(bronze_populacao + '/estados/'+ uf + '/municipios/' + municipio \\\n",
    "            ,data_ingestao + '_populacao_sexo_idade_'+str(municipio),respJson) \n",
    "    return ret"
   ]
  },
  {
   "cell_type": "code",
   "execution_count": 84,
   "id": "d1795ddc-5a71-4968-be0a-e119fd0673ab",
   "metadata": {},
   "outputs": [],
   "source": [
    "async def GetPopulacaoSexoRangeIdade(url, session):\n",
    "    try:\n",
    "        async with session.get(url=url) as response:\n",
    "            resp = await response.json()\n",
    "        return await SalvarPopulacaoSexoRangeIdade(resp)\n",
    "    except Exception as e:\n",
    "        print(\"Erro de consultar a url {} erro para {}.\".format(url, e.__class__))"
   ]
  },
  {
   "cell_type": "code",
   "execution_count": 85,
   "id": "b4900b0a-70f3-4145-a72d-e7089d818a7c",
   "metadata": {},
   "outputs": [],
   "source": [
    "async def MainPopulacaoSexoRangeIdade(urls):\n",
    "    async with aiohttp.ClientSession() as session:\n",
    "        ret = await asyncio.gather(*[GetPopulacaoSexoRangeIdade(url, session) for url in urls])\n",
    "    return ret"
   ]
  },
  {
   "cell_type": "code",
   "execution_count": 86,
   "id": "6ac7957a-0e64-4a6c-9b67-c99ea37078c5",
   "metadata": {},
   "outputs": [
    {
     "name": "stdout",
     "output_type": "stream",
     "text": [
      "Tempo de consulta 84.97164392471313 segundos para consultar as 5570 urls.\n"
     ]
    }
   ],
   "source": [
    "urls = []\n",
    "for index, estado in df_estados.iterrows():\n",
    "    \n",
    "    diretorio_estado = bronze_localidades +'/municipios/'+ data_ingestao + '_' + estado['sigla'] + '.json'\n",
    "    with open(diretorio_estado) as f:\n",
    "        municipios = json.load(f)\n",
    "        municipios = pd.json_normalize(municipios)\n",
    "        municipios = municipios['id']\n",
    "\n",
    "        for municipio in municipios:\n",
    "            url = f\"https://apisidra.ibge.gov.br/values/t/9514/n1/1/n3/\"+str(estado['id'])+\"/n6/\"+str(municipio)+\"/v/93/p/all/c2/all/c287/93070,93084,93085,93086,93087,93088,93089,93090,93091,93092,93093,93094,93095,93096,93097,93098,49108,49109,60040,60041,6653\"\n",
    "            urls.append(url)\n",
    "\n",
    "start = time.time()\n",
    "ret = await MainPopulacaoSexoRangeIdade(urls)\n",
    "end = time.time()\n",
    "print(\"Tempo de consulta {} segundos para consultar as {} urls.\".format(end - start, len(urls)))"
   ]
  },
  {
   "cell_type": "markdown",
   "id": "dfdbf842-2af8-4ddb-a217-8da5de2c247a",
   "metadata": {},
   "source": [
    "## PIB"
   ]
  },
  {
   "cell_type": "code",
   "execution_count": 87,
   "id": "446440fc-234f-40e3-9437-40bad6139885",
   "metadata": {},
   "outputs": [],
   "source": [
    "async def SalvarPib(respJson):\n",
    "    dfPib = pd.json_normalize(respJson)   \n",
    "    municipio = dfPib[dfPib['NC'] == '6']['D1C'].iloc[0]\n",
    "    uf = dfPib[dfPib['NC'] == '3']['D1C'].iloc[0]\n",
    "    uf = df_estados[df_estados['id'] == int(uf)]['sigla'].iloc[0]\n",
    "    \n",
    "    ret = await SalvarIbgeJson(bronze_pib + '/estados/'+ uf + '/municipios/' + municipio \\\n",
    "            ,data_ingestao + '_pib_'+str(municipio),respJson) \n",
    "    return ret"
   ]
  },
  {
   "cell_type": "code",
   "execution_count": 88,
   "id": "5eedfaa0-831a-4532-89a4-6ffd94e7edb6",
   "metadata": {},
   "outputs": [],
   "source": [
    "async def GetPib(url, session):\n",
    "    try:\n",
    "        async with session.get(url=url) as response:\n",
    "            resp = await response.json()\n",
    "        return await SalvarPib(resp)\n",
    "    except Exception as e:\n",
    "        print(\"Erro de consultar a url {} erro para {}.\".format(url, e.__class__))"
   ]
  },
  {
   "cell_type": "code",
   "execution_count": 89,
   "id": "15e022ed-bab0-4408-97c1-2e951da77806",
   "metadata": {},
   "outputs": [],
   "source": [
    "async def MainPib(urls):\n",
    "    async with aiohttp.ClientSession() as session:\n",
    "        ret = await asyncio.gather(*[GetPib(url, session) for url in urls])\n",
    "    return ret"
   ]
  },
  {
   "cell_type": "code",
   "execution_count": 90,
   "id": "d65de9bd-c97f-4aa8-9008-bdfd76456211",
   "metadata": {},
   "outputs": [
    {
     "name": "stdout",
     "output_type": "stream",
     "text": [
      "Tempo de consulta 35.62893199920654 segundos para consultar as 5570 urls.\n"
     ]
    }
   ],
   "source": [
    "urls = []\n",
    "for index, estado in df_estados.iterrows():\n",
    "    \n",
    "    diretorio_estado = bronze_localidades +'/municipios/'+ data_ingestao + '_' + estado['sigla'] + '.json'\n",
    "    with open(diretorio_estado) as f:\n",
    "        municipios = json.load(f)\n",
    "        municipios = pd.json_normalize(municipios)\n",
    "        municipios = municipios['id']\n",
    "\n",
    "        for municipio in municipios:\n",
    "              url = f\"https://apisidra.ibge.gov.br/values/t/5938/n1/1/n3/\"+str(estado['id'])+\"/n6/\"+str(municipio)+\"/v/37/p/all\"\n",
    "              urls.append(url)           \n",
    "\n",
    "start = time.time()\n",
    "ret = await MainPib(urls)\n",
    "end = time.time()\n",
    "print(\"Tempo de consulta {} segundos para consultar as {} urls.\".format(end - start, len(urls))) "
   ]
  },
  {
   "cell_type": "markdown",
   "id": "14169377-7eac-4b73-a21d-84a158ed9ea2",
   "metadata": {},
   "source": [
    "## IDH"
   ]
  },
  {
   "cell_type": "markdown",
   "id": "569a5894-27ad-4602-9de3-b59d7b3de548",
   "metadata": {},
   "source": [
    "### Estados"
   ]
  },
  {
   "cell_type": "code",
   "execution_count": 91,
   "id": "ce21eb98-2436-490e-956a-e9c9a93b8743",
   "metadata": {},
   "outputs": [],
   "source": [
    "for index, estado in df_estados.iterrows():\n",
    "     url = f\"https://servicodados.ibge.gov.br/api/v1/pesquisas/37/indicadores/30255/resultados/\"+str(estado['id'])\n",
    "     idh = await ConsultaIbgeJson(url)\n",
    "\n",
    "     await SalvarIbgeJson(bronze_idh + '/estados', data_ingestao + '_idh_'+ estado['sigla'],idh)    "
   ]
  },
  {
   "cell_type": "markdown",
   "id": "bc9d3d82-97a0-4ff6-adfe-6fdb8a691cbb",
   "metadata": {},
   "source": [
    "### Munícipios (IDHM) "
   ]
  },
  {
   "cell_type": "markdown",
   "id": "ef408ab0-5e8a-4123-968d-6b1dfc0758ad",
   "metadata": {},
   "source": [
    "#### Funções"
   ]
  },
  {
   "cell_type": "code",
   "execution_count": 92,
   "id": "db80c846-ef31-4476-a9b3-9e1457ecc5bc",
   "metadata": {},
   "outputs": [],
   "source": [
    "async def SalvarIhdm(respJson,municipio):\n",
    "    \n",
    "    uf = await ConsultaIbgeJson('https://servicodados.ibge.gov.br/api/v1/localidades/municipios/'+ municipio)\n",
    "    uf = str(pd.json_normalize(uf)['microrregiao.mesorregiao.UF.sigla'][0])\n",
    "    respJson[0]['res'][0]['localidade'] = municipio\n",
    "\n",
    "    ret = await SalvarIbgeJson(bronze_idh + '/idhm/'+ uf + '/municipios' ,data_ingestao + '_idhm_'+ municipio,respJson) \n",
    "    return ret"
   ]
  },
  {
   "cell_type": "code",
   "execution_count": 93,
   "id": "af4e97ce-48e2-4421-86f0-1d60b9e27532",
   "metadata": {},
   "outputs": [],
   "source": [
    "async def GetIhdm(url, session):\n",
    "    error = True\n",
    "    try:\n",
    "        async with session.get(url=url) as response:\n",
    "            resp = await response.json()\n",
    "        await SalvarIhdm(resp,url.rsplit('/',1)[1])\n",
    "        error = False\n",
    "    except Exception as e:\n",
    "         error = True\n",
    "    finally:\n",
    "        return error"
   ]
  },
  {
   "cell_type": "code",
   "execution_count": 94,
   "id": "3f3f1670-c3d4-4065-a1a0-8ebaeef9b875",
   "metadata": {},
   "outputs": [],
   "source": [
    "async def GetIhdmLoop(url, session):\n",
    "    error = False\n",
    "    error = await GetIhdm(url, session)\n",
    "    while error:\n",
    "        error = await GetIhdm(url, session)        "
   ]
  },
  {
   "cell_type": "code",
   "execution_count": 95,
   "id": "60b7de3e-085a-430b-9916-bfb7ce7152ae",
   "metadata": {},
   "outputs": [],
   "source": [
    "async def MainGetIhdm(urls):\n",
    "    async with aiohttp.ClientSession() as session:\n",
    "        ret = await asyncio.gather(*[GetIhdmLoop(url, session) for url in urls])\n",
    "    return ret"
   ]
  },
  {
   "cell_type": "markdown",
   "id": "a3f7c8af-b60c-40e9-8598-37b15fd6c7ba",
   "metadata": {},
   "source": [
    "#### AC"
   ]
  },
  {
   "cell_type": "code",
   "execution_count": 99,
   "id": "66a9040c-f13b-4c3f-b765-d2e7db6eecca",
   "metadata": {},
   "outputs": [
    {
     "name": "stdout",
     "output_type": "stream",
     "text": [
      "Tempo de consulta 20.823083877563477 segundos para consultar as 22 urls.\n"
     ]
    }
   ],
   "source": [
    "urls = []\n",
    "uf = 'AC'\n",
    "diretorio_estado = bronze_localidades +'/municipios/'+ data_ingestao + '_' + uf + '.json'\n",
    "with open(diretorio_estado) as f:\n",
    "    municipios = json.load(f)\n",
    "    municipios = pd.json_normalize(municipios)\n",
    "    municipios = municipios['id']\n",
    "\n",
    "    for municipio in municipios:\n",
    "        url = f\"https://servicodados.ibge.gov.br/api/v1/pesquisas/37/indicadores/30255/resultados/\"+str(municipio)\n",
    "        urls.append(url)\n",
    "\n",
    "start = time.time()\n",
    "ret = await MainGetIhdm(urls)\n",
    "end = time.time()\n",
    "print(\"Tempo de consulta {} segundos para consultar as {} urls.\".format(end - start, len(urls)))"
   ]
  },
  {
   "cell_type": "markdown",
   "id": "a9cfeb56-d422-4a17-90d1-c18164f24a71",
   "metadata": {},
   "source": [
    "#### AL"
   ]
  },
  {
   "cell_type": "code",
   "execution_count": 98,
   "id": "dd398bc8-6492-4037-a2d9-78b28041eaa6",
   "metadata": {},
   "outputs": [
    {
     "name": "stdout",
     "output_type": "stream",
     "text": [
      "Tempo de consulta 101.2027199268341 segundos para consultar as 102 urls.\n"
     ]
    }
   ],
   "source": [
    "urls = []\n",
    "uf = 'AL'\n",
    "diretorio_estado = bronze_localidades +'/municipios/'+ data_ingestao + '_' + uf + '.json'\n",
    "with open(diretorio_estado) as f:\n",
    "    municipios = json.load(f)\n",
    "    municipios = pd.json_normalize(municipios)\n",
    "    municipios = municipios['id']\n",
    "\n",
    "    for municipio in municipios:\n",
    "        url = f\"https://servicodados.ibge.gov.br/api/v1/pesquisas/37/indicadores/30255/resultados/\"+str(municipio)\n",
    "        urls.append(url)\n",
    "\n",
    "start = time.time()\n",
    "ret = await MainGetIhdm(urls)\n",
    "end = time.time()\n",
    "print(\"Tempo de consulta {} segundos para consultar as {} urls.\".format(end - start, len(urls)))"
   ]
  },
  {
   "cell_type": "markdown",
   "id": "f4ef7dc7-f341-46f0-a010-9baa867a8958",
   "metadata": {},
   "source": [
    "#### AP"
   ]
  },
  {
   "cell_type": "code",
   "execution_count": 100,
   "id": "cc5fb43a-49d3-4101-883c-6f920764b515",
   "metadata": {},
   "outputs": [
    {
     "name": "stdout",
     "output_type": "stream",
     "text": [
      "Tempo de consulta 15.59290099143982 segundos para consultar as 16 urls.\n"
     ]
    }
   ],
   "source": [
    "urls = []\n",
    "uf = 'AP'\n",
    "diretorio_estado = bronze_localidades +'/municipios/'+ data_ingestao + '_' + uf + '.json'\n",
    "with open(diretorio_estado) as f:\n",
    "    municipios = json.load(f)\n",
    "    municipios = pd.json_normalize(municipios)\n",
    "    municipios = municipios['id']\n",
    "\n",
    "    for municipio in municipios:\n",
    "        url = f\"https://servicodados.ibge.gov.br/api/v1/pesquisas/37/indicadores/30255/resultados/\"+str(municipio)\n",
    "        urls.append(url)\n",
    "\n",
    "start = time.time()\n",
    "ret = await MainGetIhdm(urls)\n",
    "end = time.time()\n",
    "print(\"Tempo de consulta {} segundos para consultar as {} urls.\".format(end - start, len(urls)))"
   ]
  },
  {
   "cell_type": "markdown",
   "id": "9c4c75cd-898e-4589-b94b-9ce9c6c44e79",
   "metadata": {},
   "source": [
    "#### AM"
   ]
  },
  {
   "cell_type": "code",
   "execution_count": 101,
   "id": "c62d4ef1-10a1-4ab4-89a8-616ae0d8861f",
   "metadata": {},
   "outputs": [
    {
     "name": "stdout",
     "output_type": "stream",
     "text": [
      "Tempo de consulta 59.77863311767578 segundos para consultar as 62 urls.\n"
     ]
    }
   ],
   "source": [
    "urls = []\n",
    "uf = 'AM'\n",
    "diretorio_estado = bronze_localidades +'/municipios/'+ data_ingestao + '_' + uf + '.json'\n",
    "with open(diretorio_estado) as f:\n",
    "    municipios = json.load(f)\n",
    "    municipios = pd.json_normalize(municipios)\n",
    "    municipios = municipios['id']\n",
    "\n",
    "    for municipio in municipios:\n",
    "        url = f\"https://servicodados.ibge.gov.br/api/v1/pesquisas/37/indicadores/30255/resultados/\"+str(municipio)\n",
    "        urls.append(url)\n",
    "\n",
    "start = time.time()\n",
    "ret = await MainGetIhdm(urls)\n",
    "end = time.time()\n",
    "print(\"Tempo de consulta {} segundos para consultar as {} urls.\".format(end - start, len(urls)))"
   ]
  },
  {
   "cell_type": "markdown",
   "id": "60bc31b3-ce0f-40c3-90e4-acee9f7ddf12",
   "metadata": {},
   "source": [
    "#### BA"
   ]
  },
  {
   "cell_type": "code",
   "execution_count": 102,
   "id": "9f0ae3ab-82cb-405a-a57d-e1abed662cc4",
   "metadata": {},
   "outputs": [
    {
     "name": "stdout",
     "output_type": "stream",
     "text": [
      "Tempo de consulta 391.6915693283081 segundos para consultar as 417 urls.\n"
     ]
    }
   ],
   "source": [
    "urls = []\n",
    "uf = 'BA'\n",
    "diretorio_estado = bronze_localidades +'/municipios/'+ data_ingestao + '_' + uf + '.json'\n",
    "with open(diretorio_estado) as f:\n",
    "    municipios = json.load(f)\n",
    "    municipios = pd.json_normalize(municipios)\n",
    "    municipios = municipios['id']\n",
    "\n",
    "    for municipio in municipios:\n",
    "        url = f\"https://servicodados.ibge.gov.br/api/v1/pesquisas/37/indicadores/30255/resultados/\"+str(municipio)\n",
    "        urls.append(url)\n",
    "\n",
    "start = time.time()\n",
    "ret = await MainGetIhdm(urls)\n",
    "end = time.time()\n",
    "print(\"Tempo de consulta {} segundos para consultar as {} urls.\".format(end - start, len(urls)))"
   ]
  },
  {
   "cell_type": "markdown",
   "id": "83fe61f2-c795-4f65-86b5-09627374f39c",
   "metadata": {},
   "source": [
    "#### CE"
   ]
  },
  {
   "cell_type": "code",
   "execution_count": 103,
   "id": "33be30b9-0974-42b9-ab5c-ec81dede8ee9",
   "metadata": {},
   "outputs": [
    {
     "name": "stdout",
     "output_type": "stream",
     "text": [
      "Tempo de consulta 173.0133490562439 segundos para consultar as 184 urls.\n"
     ]
    }
   ],
   "source": [
    "urls = []\n",
    "uf = 'CE'\n",
    "diretorio_estado = bronze_localidades +'/municipios/'+ data_ingestao + '_' + uf + '.json'\n",
    "with open(diretorio_estado) as f:\n",
    "    municipios = json.load(f)\n",
    "    municipios = pd.json_normalize(municipios)\n",
    "    municipios = municipios['id']\n",
    "\n",
    "    for municipio in municipios:\n",
    "        url = f\"https://servicodados.ibge.gov.br/api/v1/pesquisas/37/indicadores/30255/resultados/\"+str(municipio)\n",
    "        urls.append(url)\n",
    "\n",
    "start = time.time()\n",
    "ret = await MainGetIhdm(urls)\n",
    "end = time.time()\n",
    "print(\"Tempo de consulta {} segundos para consultar as {} urls.\".format(end - start, len(urls)))"
   ]
  },
  {
   "cell_type": "markdown",
   "id": "1e69b1cd-e519-4e4e-8b1d-0f3145362e07",
   "metadata": {},
   "source": [
    "#### DF"
   ]
  },
  {
   "cell_type": "code",
   "execution_count": 104,
   "id": "c035b47a-ff2b-435a-8b8f-9f05d61bca85",
   "metadata": {},
   "outputs": [
    {
     "name": "stdout",
     "output_type": "stream",
     "text": [
      "Tempo de consulta 1.0526931285858154 segundos para consultar as 1 urls.\n"
     ]
    }
   ],
   "source": [
    "urls = []\n",
    "uf = 'DF'\n",
    "diretorio_estado = bronze_localidades +'/municipios/'+ data_ingestao + '_' + uf + '.json'\n",
    "with open(diretorio_estado) as f:\n",
    "    municipios = json.load(f)\n",
    "    municipios = pd.json_normalize(municipios)\n",
    "    municipios = municipios['id']\n",
    "\n",
    "    for municipio in municipios:\n",
    "        url = f\"https://servicodados.ibge.gov.br/api/v1/pesquisas/37/indicadores/30255/resultados/\"+str(municipio)\n",
    "        urls.append(url)\n",
    "\n",
    "start = time.time()\n",
    "ret = await MainGetIhdm(urls)\n",
    "end = time.time()\n",
    "print(\"Tempo de consulta {} segundos para consultar as {} urls.\".format(end - start, len(urls)))"
   ]
  },
  {
   "cell_type": "markdown",
   "id": "4776feeb-520a-4dec-b384-89f05dd2e2d8",
   "metadata": {},
   "source": [
    "#### ES"
   ]
  },
  {
   "cell_type": "code",
   "execution_count": 105,
   "id": "13454f61-d5af-42eb-9326-3bb341c891db",
   "metadata": {},
   "outputs": [
    {
     "name": "stdout",
     "output_type": "stream",
     "text": [
      "Tempo de consulta 71.43046140670776 segundos para consultar as 78 urls.\n"
     ]
    }
   ],
   "source": [
    "urls = []\n",
    "uf = 'ES'\n",
    "diretorio_estado = bronze_localidades +'/municipios/'+ data_ingestao + '_' + uf + '.json'\n",
    "with open(diretorio_estado) as f:\n",
    "    municipios = json.load(f)\n",
    "    municipios = pd.json_normalize(municipios)\n",
    "    municipios = municipios['id']\n",
    "\n",
    "    for municipio in municipios:\n",
    "        url = f\"https://servicodados.ibge.gov.br/api/v1/pesquisas/37/indicadores/30255/resultados/\"+str(municipio)\n",
    "        urls.append(url)\n",
    "\n",
    "start = time.time()\n",
    "ret = await MainGetIhdm(urls)\n",
    "end = time.time()\n",
    "print(\"Tempo de consulta {} segundos para consultar as {} urls.\".format(end - start, len(urls)))"
   ]
  },
  {
   "cell_type": "markdown",
   "id": "66cc6233-4d8b-4d71-902c-4e9cbcea94e6",
   "metadata": {},
   "source": [
    "#### GO"
   ]
  },
  {
   "cell_type": "code",
   "execution_count": 106,
   "id": "069b2c35-f378-4963-af04-4d275c800f55",
   "metadata": {},
   "outputs": [
    {
     "name": "stdout",
     "output_type": "stream",
     "text": [
      "Tempo de consulta 232.82219552993774 segundos para consultar as 246 urls.\n"
     ]
    }
   ],
   "source": [
    "urls = []\n",
    "uf = 'GO'\n",
    "diretorio_estado = bronze_localidades +'/municipios/'+ data_ingestao + '_' + uf + '.json'\n",
    "with open(diretorio_estado) as f:\n",
    "    municipios = json.load(f)\n",
    "    municipios = pd.json_normalize(municipios)\n",
    "    municipios = municipios['id']\n",
    "\n",
    "    for municipio in municipios:\n",
    "        url = f\"https://servicodados.ibge.gov.br/api/v1/pesquisas/37/indicadores/30255/resultados/\"+str(municipio)\n",
    "        urls.append(url)\n",
    "\n",
    "start = time.time()\n",
    "ret = await MainGetIhdm(urls)\n",
    "end = time.time()\n",
    "print(\"Tempo de consulta {} segundos para consultar as {} urls.\".format(end - start, len(urls)))"
   ]
  },
  {
   "cell_type": "markdown",
   "id": "ffac950c-e046-49a1-ac15-1fcc85ed6bbf",
   "metadata": {},
   "source": [
    "#### MA"
   ]
  },
  {
   "cell_type": "code",
   "execution_count": 107,
   "id": "f49199a9-b070-4d15-8fb5-6e5558c53034",
   "metadata": {},
   "outputs": [
    {
     "name": "stdout",
     "output_type": "stream",
     "text": [
      "Tempo de consulta 206.0578007698059 segundos para consultar as 217 urls.\n"
     ]
    }
   ],
   "source": [
    "urls = []\n",
    "uf = 'MA'\n",
    "diretorio_estado = bronze_localidades +'/municipios/'+ data_ingestao + '_' + uf + '.json'\n",
    "with open(diretorio_estado) as f:\n",
    "    municipios = json.load(f)\n",
    "    municipios = pd.json_normalize(municipios)\n",
    "    municipios = municipios['id']\n",
    "\n",
    "    for municipio in municipios:\n",
    "        url = f\"https://servicodados.ibge.gov.br/api/v1/pesquisas/37/indicadores/30255/resultados/\"+str(municipio)\n",
    "        urls.append(url)\n",
    "\n",
    "start = time.time()\n",
    "ret = await MainGetIhdm(urls)\n",
    "end = time.time()\n",
    "print(\"Tempo de consulta {} segundos para consultar as {} urls.\".format(end - start, len(urls)))"
   ]
  },
  {
   "cell_type": "markdown",
   "id": "7f3d5405-ea53-4f28-a2c0-405275a42158",
   "metadata": {},
   "source": [
    "#### MT"
   ]
  },
  {
   "cell_type": "code",
   "execution_count": 108,
   "id": "50e3ee8a-868f-47fa-9aed-a1e06d0ff569",
   "metadata": {},
   "outputs": [
    {
     "name": "stdout",
     "output_type": "stream",
     "text": [
      "Tempo de consulta 135.98740148544312 segundos para consultar as 141 urls.\n"
     ]
    }
   ],
   "source": [
    "urls = []\n",
    "uf = 'MT'\n",
    "diretorio_estado = bronze_localidades +'/municipios/'+ data_ingestao + '_' + uf + '.json'\n",
    "with open(diretorio_estado) as f:\n",
    "    municipios = json.load(f)\n",
    "    municipios = pd.json_normalize(municipios)\n",
    "    municipios = municipios['id']\n",
    "\n",
    "    for municipio in municipios:\n",
    "        url = f\"https://servicodados.ibge.gov.br/api/v1/pesquisas/37/indicadores/30255/resultados/\"+str(municipio)\n",
    "        urls.append(url)\n",
    "\n",
    "start = time.time()\n",
    "ret = await MainGetIhdm(urls)\n",
    "end = time.time()\n",
    "print(\"Tempo de consulta {} segundos para consultar as {} urls.\".format(end - start, len(urls)))"
   ]
  },
  {
   "cell_type": "markdown",
   "id": "046a763c-8a6c-4747-8800-57405bbf3d1e",
   "metadata": {},
   "source": [
    "#### MS"
   ]
  },
  {
   "cell_type": "code",
   "execution_count": 109,
   "id": "7e6246a9-9c20-4be6-b2cc-1bb8586d8b9e",
   "metadata": {},
   "outputs": [
    {
     "name": "stdout",
     "output_type": "stream",
     "text": [
      "Tempo de consulta 73.24209952354431 segundos para consultar as 79 urls.\n"
     ]
    }
   ],
   "source": [
    "urls = []\n",
    "uf = 'MS'\n",
    "diretorio_estado = bronze_localidades +'/municipios/'+ data_ingestao + '_' + uf + '.json'\n",
    "with open(diretorio_estado) as f:\n",
    "    municipios = json.load(f)\n",
    "    municipios = pd.json_normalize(municipios)\n",
    "    municipios = municipios['id']\n",
    "\n",
    "    for municipio in municipios:\n",
    "        url = f\"https://servicodados.ibge.gov.br/api/v1/pesquisas/37/indicadores/30255/resultados/\"+str(municipio)\n",
    "        urls.append(url)\n",
    "\n",
    "start = time.time()\n",
    "ret = await MainGetIhdm(urls)\n",
    "end = time.time()\n",
    "print(\"Tempo de consulta {} segundos para consultar as {} urls.\".format(end - start, len(urls)))"
   ]
  },
  {
   "cell_type": "markdown",
   "id": "ee5b7ad0-bed2-4c32-8a23-14787477281a",
   "metadata": {},
   "source": [
    "#### MG"
   ]
  },
  {
   "cell_type": "code",
   "execution_count": 110,
   "id": "d7e3bef7-e2d4-42d3-8268-9b000e6950b5",
   "metadata": {},
   "outputs": [
    {
     "name": "stdout",
     "output_type": "stream",
     "text": [
      "Tempo de consulta 791.961100101471 segundos para consultar as 853 urls.\n"
     ]
    }
   ],
   "source": [
    "urls = []\n",
    "uf = 'MG'\n",
    "diretorio_estado = bronze_localidades +'/municipios/'+ data_ingestao + '_' + uf + '.json'\n",
    "with open(diretorio_estado) as f:\n",
    "    municipios = json.load(f)\n",
    "    municipios = pd.json_normalize(municipios)\n",
    "    municipios = municipios['id']\n",
    "\n",
    "    for municipio in municipios:\n",
    "        url = f\"https://servicodados.ibge.gov.br/api/v1/pesquisas/37/indicadores/30255/resultados/\"+str(municipio)\n",
    "        urls.append(url)\n",
    "\n",
    "start = time.time()\n",
    "ret = await MainGetIhdm(urls)\n",
    "end = time.time()\n",
    "print(\"Tempo de consulta {} segundos para consultar as {} urls.\".format(end - start, len(urls)))"
   ]
  },
  {
   "cell_type": "markdown",
   "id": "1c1c7b46-7b7f-491e-8666-ea7aadf86190",
   "metadata": {},
   "source": [
    "#### PA"
   ]
  },
  {
   "cell_type": "code",
   "execution_count": 111,
   "id": "1d1d833e-9cee-48bd-b39d-2b5c74b98f78",
   "metadata": {},
   "outputs": [
    {
     "name": "stdout",
     "output_type": "stream",
     "text": [
      "Tempo de consulta 132.65338516235352 segundos para consultar as 144 urls.\n"
     ]
    }
   ],
   "source": [
    "urls = []\n",
    "uf = 'PA'\n",
    "diretorio_estado = bronze_localidades +'/municipios/'+ data_ingestao + '_' + uf + '.json'\n",
    "with open(diretorio_estado) as f:\n",
    "    municipios = json.load(f)\n",
    "    municipios = pd.json_normalize(municipios)\n",
    "    municipios = municipios['id']\n",
    "\n",
    "    for municipio in municipios:\n",
    "        url = f\"https://servicodados.ibge.gov.br/api/v1/pesquisas/37/indicadores/30255/resultados/\"+str(municipio)\n",
    "        urls.append(url)\n",
    "\n",
    "start = time.time()\n",
    "ret = await MainGetIhdm(urls)\n",
    "end = time.time()\n",
    "print(\"Tempo de consulta {} segundos para consultar as {} urls.\".format(end - start, len(urls)))"
   ]
  },
  {
   "cell_type": "markdown",
   "id": "b31fc1f8-33ff-4d7f-88eb-f2b62b8b9a79",
   "metadata": {},
   "source": [
    "#### PB"
   ]
  },
  {
   "cell_type": "code",
   "execution_count": 112,
   "id": "e7bbfac3-49f4-4e3a-adab-4c086a5b39ba",
   "metadata": {},
   "outputs": [
    {
     "name": "stdout",
     "output_type": "stream",
     "text": [
      "Tempo de consulta 207.91943788528442 segundos para consultar as 223 urls.\n"
     ]
    }
   ],
   "source": [
    "urls = []\n",
    "uf = 'PB'\n",
    "diretorio_estado = bronze_localidades +'/municipios/'+ data_ingestao + '_' + uf + '.json'\n",
    "with open(diretorio_estado) as f:\n",
    "    municipios = json.load(f)\n",
    "    municipios = pd.json_normalize(municipios)\n",
    "    municipios = municipios['id']\n",
    "\n",
    "    for municipio in municipios:\n",
    "        url = f\"https://servicodados.ibge.gov.br/api/v1/pesquisas/37/indicadores/30255/resultados/\"+str(municipio)\n",
    "        urls.append(url)\n",
    "\n",
    "start = time.time()\n",
    "ret = await MainGetIhdm(urls)\n",
    "end = time.time()\n",
    "print(\"Tempo de consulta {} segundos para consultar as {} urls.\".format(end - start, len(urls)))"
   ]
  },
  {
   "cell_type": "markdown",
   "id": "27717530-837b-40bf-89f7-e4763785eb8a",
   "metadata": {},
   "source": [
    "#### PR"
   ]
  },
  {
   "cell_type": "code",
   "execution_count": 113,
   "id": "1344c4bc-8c3d-4a81-870f-dd295e89cdc4",
   "metadata": {},
   "outputs": [
    {
     "name": "stdout",
     "output_type": "stream",
     "text": [
      "Tempo de consulta 373.3944172859192 segundos para consultar as 399 urls.\n"
     ]
    }
   ],
   "source": [
    "urls = []\n",
    "uf = 'PR'\n",
    "diretorio_estado = bronze_localidades +'/municipios/'+ data_ingestao + '_' + uf + '.json'\n",
    "with open(diretorio_estado) as f:\n",
    "    municipios = json.load(f)\n",
    "    municipios = pd.json_normalize(municipios)\n",
    "    municipios = municipios['id']\n",
    "\n",
    "    for municipio in municipios:\n",
    "        url = f\"https://servicodados.ibge.gov.br/api/v1/pesquisas/37/indicadores/30255/resultados/\"+str(municipio)\n",
    "        urls.append(url)\n",
    "\n",
    "start = time.time()\n",
    "ret = await MainGetIhdm(urls)\n",
    "end = time.time()\n",
    "print(\"Tempo de consulta {} segundos para consultar as {} urls.\".format(end - start, len(urls)))"
   ]
  },
  {
   "cell_type": "markdown",
   "id": "a7bde27b-50c6-4891-9558-6a44e30555c9",
   "metadata": {},
   "source": [
    "#### PE"
   ]
  },
  {
   "cell_type": "code",
   "execution_count": 114,
   "id": "20a3ea89-1173-4d21-9620-60a71884b6aa",
   "metadata": {},
   "outputs": [
    {
     "name": "stdout",
     "output_type": "stream",
     "text": [
      "Tempo de consulta 175.5269796848297 segundos para consultar as 185 urls.\n"
     ]
    }
   ],
   "source": [
    "urls = []\n",
    "uf = 'PE'\n",
    "diretorio_estado = bronze_localidades +'/municipios/'+ data_ingestao + '_' + uf + '.json'\n",
    "with open(diretorio_estado) as f:\n",
    "    municipios = json.load(f)\n",
    "    municipios = pd.json_normalize(municipios)\n",
    "    municipios = municipios['id']\n",
    "\n",
    "    for municipio in municipios:\n",
    "        url = f\"https://servicodados.ibge.gov.br/api/v1/pesquisas/37/indicadores/30255/resultados/\"+str(municipio)\n",
    "        urls.append(url)\n",
    "\n",
    "start = time.time()\n",
    "ret = await MainGetIhdm(urls)\n",
    "end = time.time()\n",
    "print(\"Tempo de consulta {} segundos para consultar as {} urls.\".format(end - start, len(urls)))"
   ]
  },
  {
   "cell_type": "markdown",
   "id": "fe795d57-d373-4b8a-a195-e53308a60dff",
   "metadata": {},
   "source": [
    "#### PI"
   ]
  },
  {
   "cell_type": "code",
   "execution_count": 115,
   "id": "99d3854d-d14e-4510-a8e5-5f81180c1af7",
   "metadata": {},
   "outputs": [
    {
     "name": "stdout",
     "output_type": "stream",
     "text": [
      "Tempo de consulta 206.64634728431702 segundos para consultar as 224 urls.\n"
     ]
    }
   ],
   "source": [
    "urls = []\n",
    "uf = 'PI'\n",
    "diretorio_estado = bronze_localidades +'/municipios/'+ data_ingestao + '_' + uf + '.json'\n",
    "with open(diretorio_estado) as f:\n",
    "    municipios = json.load(f)\n",
    "    municipios = pd.json_normalize(municipios)\n",
    "    municipios = municipios['id']\n",
    "\n",
    "    for municipio in municipios:\n",
    "        url = f\"https://servicodados.ibge.gov.br/api/v1/pesquisas/37/indicadores/30255/resultados/\"+str(municipio)\n",
    "        urls.append(url)\n",
    "\n",
    "start = time.time()\n",
    "ret = await MainGetIhdm(urls)\n",
    "end = time.time()\n",
    "print(\"Tempo de consulta {} segundos para consultar as {} urls.\".format(end - start, len(urls)))"
   ]
  },
  {
   "cell_type": "markdown",
   "id": "406c3875-ad76-48de-b48f-1c32575463d3",
   "metadata": {},
   "source": [
    "#### RJ"
   ]
  },
  {
   "cell_type": "code",
   "execution_count": 116,
   "id": "898820f3-7788-4ca7-be96-c7e066e6b034",
   "metadata": {},
   "outputs": [
    {
     "name": "stdout",
     "output_type": "stream",
     "text": [
      "Tempo de consulta 85.08200144767761 segundos para consultar as 92 urls.\n"
     ]
    }
   ],
   "source": [
    "urls = []\n",
    "uf = 'RJ'\n",
    "diretorio_estado = bronze_localidades +'/municipios/'+ data_ingestao + '_' + uf + '.json'\n",
    "with open(diretorio_estado) as f:\n",
    "    municipios = json.load(f)\n",
    "    municipios = pd.json_normalize(municipios)\n",
    "    municipios = municipios['id']\n",
    "\n",
    "    for municipio in municipios:\n",
    "        url = f\"https://servicodados.ibge.gov.br/api/v1/pesquisas/37/indicadores/30255/resultados/\"+str(municipio)\n",
    "        urls.append(url)\n",
    "\n",
    "start = time.time()\n",
    "ret = await MainGetIhdm(urls)\n",
    "end = time.time()\n",
    "print(\"Tempo de consulta {} segundos para consultar as {} urls.\".format(end - start, len(urls)))"
   ]
  },
  {
   "cell_type": "markdown",
   "id": "8f0cbec0-6841-4c80-aa97-7fa5039f126b",
   "metadata": {},
   "source": [
    "#### RN"
   ]
  },
  {
   "cell_type": "code",
   "execution_count": 117,
   "id": "884eb76d-4b5c-403e-8ce7-15e1dbb4e827",
   "metadata": {},
   "outputs": [
    {
     "name": "stdout",
     "output_type": "stream",
     "text": [
      "Tempo de consulta 157.87485718727112 segundos para consultar as 167 urls.\n"
     ]
    }
   ],
   "source": [
    "urls = []\n",
    "uf = 'RN'\n",
    "diretorio_estado = bronze_localidades +'/municipios/'+ data_ingestao + '_' + uf + '.json'\n",
    "with open(diretorio_estado) as f:\n",
    "    municipios = json.load(f)\n",
    "    municipios = pd.json_normalize(municipios)\n",
    "    municipios = municipios['id']\n",
    "\n",
    "    for municipio in municipios:\n",
    "        url = f\"https://servicodados.ibge.gov.br/api/v1/pesquisas/37/indicadores/30255/resultados/\"+str(municipio)\n",
    "        urls.append(url)\n",
    "\n",
    "start = time.time()\n",
    "ret = await MainGetIhdm(urls)\n",
    "end = time.time()\n",
    "print(\"Tempo de consulta {} segundos para consultar as {} urls.\".format(end - start, len(urls)))"
   ]
  },
  {
   "cell_type": "markdown",
   "id": "fc37461a-b63c-4c6c-a147-85549b84fcfb",
   "metadata": {},
   "source": [
    "#### RS"
   ]
  },
  {
   "cell_type": "code",
   "execution_count": 118,
   "id": "5b978bb4-7e48-44d3-81af-bf3892e57231",
   "metadata": {},
   "outputs": [
    {
     "name": "stdout",
     "output_type": "stream",
     "text": [
      "Tempo de consulta 470.57864570617676 segundos para consultar as 497 urls.\n"
     ]
    }
   ],
   "source": [
    "urls = []\n",
    "uf = 'RS'\n",
    "diretorio_estado = bronze_localidades +'/municipios/'+ data_ingestao + '_' + uf + '.json'\n",
    "with open(diretorio_estado) as f:\n",
    "    municipios = json.load(f)\n",
    "    municipios = pd.json_normalize(municipios)\n",
    "    municipios = municipios['id']\n",
    "\n",
    "    for municipio in municipios:\n",
    "        url = f\"https://servicodados.ibge.gov.br/api/v1/pesquisas/37/indicadores/30255/resultados/\"+str(municipio)\n",
    "        urls.append(url)\n",
    "\n",
    "start = time.time()\n",
    "ret = await MainGetIhdm(urls)\n",
    "end = time.time()\n",
    "print(\"Tempo de consulta {} segundos para consultar as {} urls.\".format(end - start, len(urls)))"
   ]
  },
  {
   "cell_type": "markdown",
   "id": "2725df07-7dd8-435d-978a-611210a0c5c7",
   "metadata": {},
   "source": [
    "#### RO"
   ]
  },
  {
   "cell_type": "code",
   "execution_count": 119,
   "id": "3df596a8-d9e6-40c4-8156-7473a19644ab",
   "metadata": {},
   "outputs": [
    {
     "name": "stdout",
     "output_type": "stream",
     "text": [
      "Tempo de consulta 47.7691445350647 segundos para consultar as 52 urls.\n"
     ]
    }
   ],
   "source": [
    "urls = []\n",
    "uf = 'RO'\n",
    "diretorio_estado = bronze_localidades +'/municipios/'+ data_ingestao + '_' + uf + '.json'\n",
    "with open(diretorio_estado) as f:\n",
    "    municipios = json.load(f)\n",
    "    municipios = pd.json_normalize(municipios)\n",
    "    municipios = municipios['id']\n",
    "\n",
    "    for municipio in municipios:\n",
    "        url = f\"https://servicodados.ibge.gov.br/api/v1/pesquisas/37/indicadores/30255/resultados/\"+str(municipio)\n",
    "        urls.append(url)\n",
    "\n",
    "start = time.time()\n",
    "ret = await MainGetIhdm(urls)\n",
    "end = time.time()\n",
    "print(\"Tempo de consulta {} segundos para consultar as {} urls.\".format(end - start, len(urls)))"
   ]
  },
  {
   "cell_type": "markdown",
   "id": "d468544c-c516-4cee-9897-c116b20b5fd4",
   "metadata": {},
   "source": [
    "#### RR"
   ]
  },
  {
   "cell_type": "code",
   "execution_count": 120,
   "id": "797b3c7f-ea99-405b-8f30-79e7bbb160c7",
   "metadata": {},
   "outputs": [
    {
     "name": "stdout",
     "output_type": "stream",
     "text": [
      "Tempo de consulta 13.765439510345459 segundos para consultar as 15 urls.\n"
     ]
    }
   ],
   "source": [
    "urls = []\n",
    "uf = 'RR'\n",
    "diretorio_estado = bronze_localidades +'/municipios/'+ data_ingestao + '_' + uf + '.json'\n",
    "with open(diretorio_estado) as f:\n",
    "    municipios = json.load(f)\n",
    "    municipios = pd.json_normalize(municipios)\n",
    "    municipios = municipios['id']\n",
    "\n",
    "    for municipio in municipios:\n",
    "        url = f\"https://servicodados.ibge.gov.br/api/v1/pesquisas/37/indicadores/30255/resultados/\"+str(municipio)\n",
    "        urls.append(url)\n",
    "\n",
    "start = time.time()\n",
    "ret = await MainGetIhdm(urls)\n",
    "end = time.time()\n",
    "print(\"Tempo de consulta {} segundos para consultar as {} urls.\".format(end - start, len(urls)))"
   ]
  },
  {
   "cell_type": "markdown",
   "id": "4811a3e5-9bda-4988-b36d-fa36ab810d64",
   "metadata": {},
   "source": [
    "#### SC"
   ]
  },
  {
   "cell_type": "code",
   "execution_count": 121,
   "id": "f4377dbd-388a-4337-948a-27c22b2be46e",
   "metadata": {},
   "outputs": [
    {
     "name": "stdout",
     "output_type": "stream",
     "text": [
      "Tempo de consulta 273.1189546585083 segundos para consultar as 295 urls.\n"
     ]
    }
   ],
   "source": [
    "urls = []\n",
    "uf = 'SC'\n",
    "diretorio_estado = bronze_localidades +'/municipios/'+ data_ingestao + '_' + uf + '.json'\n",
    "with open(diretorio_estado) as f:\n",
    "    municipios = json.load(f)\n",
    "    municipios = pd.json_normalize(municipios)\n",
    "    municipios = municipios['id']\n",
    "\n",
    "    for municipio in municipios:\n",
    "        url = f\"https://servicodados.ibge.gov.br/api/v1/pesquisas/37/indicadores/30255/resultados/\"+str(municipio)\n",
    "        urls.append(url)\n",
    "\n",
    "start = time.time()\n",
    "ret = await MainGetIhdm(urls)\n",
    "end = time.time()\n",
    "print(\"Tempo de consulta {} segundos para consultar as {} urls.\".format(end - start, len(urls)))"
   ]
  },
  {
   "cell_type": "markdown",
   "id": "e9170c14-c617-45e8-8f46-03f0e4237d24",
   "metadata": {},
   "source": [
    "#### SP"
   ]
  },
  {
   "cell_type": "code",
   "execution_count": 122,
   "id": "4d0b00f8-de69-4374-881e-ef9f78e1bb3f",
   "metadata": {},
   "outputs": [
    {
     "name": "stdout",
     "output_type": "stream",
     "text": [
      "Tempo de consulta 599.2440133094788 segundos para consultar as 645 urls.\n"
     ]
    }
   ],
   "source": [
    "urls = []\n",
    "uf = 'SP'\n",
    "diretorio_estado = bronze_localidades +'/municipios/'+ data_ingestao + '_' + uf + '.json'\n",
    "with open(diretorio_estado) as f:\n",
    "    municipios = json.load(f)\n",
    "    municipios = pd.json_normalize(municipios)\n",
    "    municipios = municipios['id']\n",
    "\n",
    "    for municipio in municipios:\n",
    "        url = f\"https://servicodados.ibge.gov.br/api/v1/pesquisas/37/indicadores/30255/resultados/\"+str(municipio)\n",
    "        urls.append(url)\n",
    "\n",
    "start = time.time()\n",
    "ret = await MainGetIhdm(urls)\n",
    "end = time.time()\n",
    "print(\"Tempo de consulta {} segundos para consultar as {} urls.\".format(end - start, len(urls)))"
   ]
  },
  {
   "cell_type": "markdown",
   "id": "6ce1aa14-0e07-4446-89c5-7afb26ac5b0b",
   "metadata": {},
   "source": [
    "#### SE"
   ]
  },
  {
   "cell_type": "code",
   "execution_count": 123,
   "id": "fc930f6c-5575-4bf1-8ba5-5cb9cc590cb9",
   "metadata": {},
   "outputs": [
    {
     "name": "stdout",
     "output_type": "stream",
     "text": [
      "Tempo de consulta 69.14277577400208 segundos para consultar as 75 urls.\n"
     ]
    }
   ],
   "source": [
    "urls = []\n",
    "uf = 'SE'\n",
    "diretorio_estado = bronze_localidades +'/municipios/'+ data_ingestao + '_' + uf + '.json'\n",
    "with open(diretorio_estado) as f:\n",
    "    municipios = json.load(f)\n",
    "    municipios = pd.json_normalize(municipios)\n",
    "    municipios = municipios['id']\n",
    "\n",
    "    for municipio in municipios:\n",
    "        url = f\"https://servicodados.ibge.gov.br/api/v1/pesquisas/37/indicadores/30255/resultados/\"+str(municipio)\n",
    "        urls.append(url)\n",
    "\n",
    "start = time.time()\n",
    "ret = await MainGetIhdm(urls)\n",
    "end = time.time()\n",
    "print(\"Tempo de consulta {} segundos para consultar as {} urls.\".format(end - start, len(urls)))"
   ]
  },
  {
   "cell_type": "markdown",
   "id": "e14d8673-ac2b-4be8-b25d-bc7a7b712a22",
   "metadata": {},
   "source": [
    "#### TO"
   ]
  },
  {
   "cell_type": "code",
   "execution_count": 124,
   "id": "aebafa92-91f5-4c08-8ad6-b0f8eab96885",
   "metadata": {},
   "outputs": [
    {
     "name": "stdout",
     "output_type": "stream",
     "text": [
      "Tempo de consulta 128.42257976531982 segundos para consultar as 139 urls.\n"
     ]
    }
   ],
   "source": [
    "urls = []\n",
    "uf = 'TO'\n",
    "diretorio_estado = bronze_localidades +'/municipios/'+ data_ingestao + '_' + uf + '.json'\n",
    "with open(diretorio_estado) as f:\n",
    "    municipios = json.load(f)\n",
    "    municipios = pd.json_normalize(municipios)\n",
    "    municipios = municipios['id']\n",
    "\n",
    "    for municipio in municipios:\n",
    "        url = f\"https://servicodados.ibge.gov.br/api/v1/pesquisas/37/indicadores/30255/resultados/\"+str(municipio)\n",
    "        urls.append(url)\n",
    "\n",
    "start = time.time()\n",
    "ret = await MainGetIhdm(urls)\n",
    "end = time.time()\n",
    "print(\"Tempo de consulta {} segundos para consultar as {} urls.\".format(end - start, len(urls)))"
   ]
  },
  {
   "cell_type": "markdown",
   "id": "42f9333f-5f92-4a85-b0c0-8282d2c2cf93",
   "metadata": {
    "jp-MarkdownHeadingCollapsed": true
   },
   "source": [
    "# Camada Prata"
   ]
  },
  {
   "cell_type": "markdown",
   "id": "3e1cf765-4bbb-428c-a0d3-2b78318ee68e",
   "metadata": {},
   "source": [
    "## Funções"
   ]
  },
  {
   "cell_type": "code",
   "execution_count": 142,
   "id": "f5d4e3de-09d7-4799-94f4-b3b1e31fbbe8",
   "metadata": {},
   "outputs": [],
   "source": [
    "def CriarDiretorioPrata(diretorio):\n",
    "    ret = True\n",
    "    try:\n",
    "        if not os.path.exists(diretorio):\n",
    "            try:\n",
    "                os.makedirs(diretorio)\n",
    "                ret = True\n",
    "            except Exception as e:\n",
    "                ret = False\n",
    "                raise\n",
    "    except:\n",
    "        ret = False \n",
    "    finally:\n",
    "        return ret"
   ]
  },
  {
   "cell_type": "markdown",
   "id": "64fc0066-65f1-4268-9208-931edbcc5bad",
   "metadata": {},
   "source": [
    "## Localidades"
   ]
  },
  {
   "cell_type": "markdown",
   "id": "c6459960-b2db-4446-abf1-4167236e5327",
   "metadata": {},
   "source": [
    "### Município"
   ]
  },
  {
   "cell_type": "code",
   "execution_count": 140,
   "id": "1a2e7064-4ecc-4c41-9e0a-1defea74e60e",
   "metadata": {},
   "outputs": [],
   "source": [
    "bronze_municipio = bronze_localidades + '/municipios' \n",
    "municipios_json = [bronze_municipio+'/'+municipio_json for municipio_json in os.listdir(bronze_municipio) \\\n",
    "                   if municipio_json.endswith('.json') and data_ingestao in municipio_json]\n",
    "\n",
    "df = pd.DataFrame()\n",
    "for municipio_arquivo in municipios_json:\n",
    "       \n",
    "    with open(municipio_arquivo) as f:\n",
    "        municipio = json.load(f)\n",
    "        municipio = pd.json_normalize(municipio)\n",
    "        municipio['data_ingestao'] = datetime.strptime(data_ingestao, '%Y%m%d')\n",
    "        df = pd.concat([municipio,df])\n",
    "\n",
    "prata_estado = prata_localidades + '/municipios.csv'\n",
    "\n",
    "if(CriarDiretorioPrata(prata_localidades)):\n",
    "    # É realizado somente o append do dados da BRONZE para a PRATA\n",
    "    df.to_csv(prata_estado, mode='a', encoding='utf-8', sep=';',index=False)\n",
    "\n",
    "del df\n",
    "del municipios_json"
   ]
  },
  {
   "cell_type": "markdown",
   "id": "b8868778-62ee-4cfd-99b0-9186e0557014",
   "metadata": {},
   "source": [
    "### Estado"
   ]
  },
  {
   "cell_type": "code",
   "execution_count": 141,
   "id": "28911da8-e479-4ab7-8833-bbc004261179",
   "metadata": {},
   "outputs": [],
   "source": [
    "bronze_estado = bronze_localidades + '/' + data_ingestao + '_estados.json'\n",
    "\n",
    "with open(bronze_estado) as f:\n",
    "    estados = json.load(f)\n",
    "    estados = pd.json_normalize(estados)\n",
    "    estados['data_ingestao'] = datetime.strptime(data_ingestao, '%Y%m%d')\n",
    "\n",
    "prata_estado = prata_localidades + '/estados.csv'\n",
    "\n",
    "if(CriarDiretorioPrata(prata_localidades)):\n",
    "    # É realizado somente o append do dados da BRONZE para a PRATA\n",
    "    estados.to_csv(prata_estado, mode='a', encoding='utf-8', sep=';',index=False)\n",
    "\n",
    "del estados"
   ]
  },
  {
   "cell_type": "markdown",
   "id": "146f789f-46cb-41ca-a0ba-3be92724d47b",
   "metadata": {
    "jp-MarkdownHeadingCollapsed": true
   },
   "source": [
    "## População"
   ]
  },
  {
   "cell_type": "markdown",
   "id": "bbbe277b-c90c-4c06-867d-17505ddfef93",
   "metadata": {},
   "source": [
    "### Cor e Raça"
   ]
  },
  {
   "cell_type": "code",
   "execution_count": 143,
   "id": "9dd3296d-9541-4c13-b2f6-cbb4689d8201",
   "metadata": {},
   "outputs": [],
   "source": [
    "bronze_populacao_cor_raca = bronze_populacao + '/estados'\n",
    "populacao_cor_raca_json = glob.glob(bronze_populacao_cor_raca+'/**/*.json', recursive=True)\n",
    "populacao_cor_raca_json = [json.replace('\\\\', '/') for json in populacao_cor_raca_json]\n",
    "\n",
    "populacao_cor_raca_json = [bronze_populacao_cor_raca for bronze_populacao_cor_raca in populacao_cor_raca_json \\\n",
    "                           if 'populacao_cor_raca' in bronze_populacao_cor_raca and data_ingestao in bronze_populacao_cor_raca] \n",
    "\n",
    "df = pd.DataFrame()\n",
    "for populacao_cor_raca_arquivo in populacao_cor_raca_json:\n",
    "       \n",
    "    with open(populacao_cor_raca_arquivo) as f:\n",
    "        populacao_cor_raca = json.load(f)\n",
    "        populacao_cor_raca = pd.json_normalize(populacao_cor_raca)\n",
    "        populacao_cor_raca['data_ingestao'] = datetime.strptime(data_ingestao, '%Y%m%d')\n",
    "        df = pd.concat([populacao_cor_raca,df])\n",
    "        \n",
    "prata_populacao_cor_racas = prata_populacao + '/populacao_cor_racas.csv'\n",
    "\n",
    "if(CriarDiretorioPrata(prata_populacao)):\n",
    "    # É realizado somente o append do dados da BRONZE para a PRATA\n",
    "    df.to_csv(prata_populacao_cor_racas, mode='a', encoding='utf-8', sep=';',index=False)\n",
    "\n",
    "del df\n",
    "del populacao_cor_raca_json"
   ]
  },
  {
   "cell_type": "markdown",
   "id": "b4836bc8-dc8e-410c-a7e6-47f0fcf6107a",
   "metadata": {},
   "source": [
    "### Sexo e Range de Idade"
   ]
  },
  {
   "cell_type": "code",
   "execution_count": 144,
   "id": "723e235e-4da3-464b-b7f2-3fe7e8e889de",
   "metadata": {},
   "outputs": [],
   "source": [
    "bronze_populacao_sexo_idade = bronze_populacao + '/estados'\n",
    "populacao_sexo_idade_json = glob.glob(bronze_populacao_sexo_idade+'/**/*.json', recursive=True)\n",
    "populacao_sexo_idade_json = [json.replace('\\\\', '/') for json in populacao_sexo_idade_json]\n",
    "\n",
    "populacao_sexo_idade_json = [bronze_populacao_sexo_idade for bronze_populacao_sexo_idade in populacao_sexo_idade_json \\\n",
    "                           if 'populacao_sexo_idade' in bronze_populacao_sexo_idade and data_ingestao in bronze_populacao_sexo_idade] \n",
    "\n",
    "df = pd.DataFrame()\n",
    "for populacao_sexo_idade_arquivo in populacao_sexo_idade_json:\n",
    "    \n",
    "    with open(populacao_sexo_idade_arquivo) as f:\n",
    "        populacao_sexo_idade = json.load(f)\n",
    "        populacao_sexo_idade = pd.json_normalize(populacao_sexo_idade)\n",
    "        populacao_sexo_idade['data_ingestao'] = datetime.strptime(data_ingestao, '%Y%m%d')\n",
    "        df = pd.concat([populacao_sexo_idade,df])\n",
    "       \n",
    "prata_populacao_sexo_idade = prata_populacao + '/populacao_sexo_idade.csv'\n",
    "\n",
    "if(CriarDiretorioPrata(prata_populacao)):\n",
    "    # É realizado somente o append do dados da BRONZE para a PRATA\n",
    "    df.to_csv(prata_populacao_sexo_idade, mode='a', encoding='utf-8', sep=';',index=False)\n",
    "        \n",
    "del df\n",
    "del populacao_sexo_idade_json"
   ]
  },
  {
   "cell_type": "markdown",
   "id": "99634d95-0516-4176-b25f-71018e45677c",
   "metadata": {},
   "source": [
    "## PIB"
   ]
  },
  {
   "cell_type": "code",
   "execution_count": null,
   "id": "0c9ba4f7-b6fe-435f-a617-18f45f9cfb69",
   "metadata": {},
   "outputs": [],
   "source": [
    "bronze_pib_bruto = bronze_pib + '/estados'\n",
    "pib_json = glob.glob(bronze_pib_bruto+'/**/*.json', recursive=True)\n",
    "pib_json = [json.replace('\\\\', '/') for json in pib_json]\n",
    "\n",
    "pib_json = [pib_bruto for pib_bruto in pib_json if '_pib_' in pib_bruto and data_ingestao in pib_bruto]"
   ]
  },
  {
   "cell_type": "code",
   "execution_count": 146,
   "id": "4fd67ad2-e8e0-4f2f-831b-74363ea3105f",
   "metadata": {},
   "outputs": [],
   "source": [
    "bronze_pib_bruto = bronze_pib + '/estados'\n",
    "pib_json = glob.glob(bronze_pib_bruto+'/**/*.json', recursive=True)\n",
    "pib_json = [json.replace('\\\\', '/') for json in pib_json]\n",
    "\n",
    "pib_json = [pib_bruto for pib_bruto in pib_json if '_pib_' in pib_bruto and data_ingestao in pib_bruto]\n",
    "\n",
    "df = pd.DataFrame()\n",
    "for pib_arquivo in pib_json:\n",
    "       \n",
    "    with open(pib_arquivo) as f:\n",
    "        pib = json.load(f)\n",
    "        pib = pd.json_normalize(pib)\n",
    "        pib['data_ingestao'] = datetime.strptime(data_ingestao, '%Y%m%d')\n",
    "        df = pd.concat([pib,df])\n",
    "        \n",
    "prata_pib_bruto = prata_pib + '/pib.csv'\n",
    "\n",
    "if(CriarDiretorioPrata(prata_pib)):\n",
    "    # É realizado somente o append do dados da BRONZE para a PRATA\n",
    "    df.to_csv(prata_pib_bruto, mode='a', encoding='utf-8', sep=';',index=False)\n",
    "        \n",
    "del df\n",
    "del pib_json"
   ]
  },
  {
   "cell_type": "markdown",
   "id": "5ff3a017-ac27-48d1-85ce-300480131294",
   "metadata": {},
   "source": [
    "## IDH"
   ]
  },
  {
   "cell_type": "markdown",
   "id": "0e1e9059-4cc0-445f-a452-6d36abd900ae",
   "metadata": {},
   "source": [
    "### Estado"
   ]
  },
  {
   "cell_type": "code",
   "execution_count": 147,
   "id": "abdd87fe-af1f-4392-a4ff-7dd028fc9567",
   "metadata": {},
   "outputs": [],
   "source": [
    "bronze_idh_estado = bronze_idh + '/estados'\n",
    "idh_estado_json = glob.glob(bronze_idh_estado+'/**/*.json', recursive=True)\n",
    "idh_estado_json = [json.replace('\\\\', '/') for json in idh_estado_json]\n",
    "\n",
    "idh_estado_json = [idh_estado for idh_estado in idh_estado_json  if '_idh_' in idh_estado and data_ingestao in idh_estado] \n",
    "\n",
    "df = pd.DataFrame()\n",
    "for idh_estado_arquivo in idh_estado_json:\n",
    "    \n",
    "    with open(idh_estado_arquivo) as f:\n",
    "        idh_estado = json.load(f)\n",
    "        idh_estado = pd.json_normalize(idh_estado[0]['res'])\n",
    "        idh_estado['data_ingestao'] = datetime.strptime(data_ingestao, '%Y%m%d')\n",
    "        df = pd.concat([idh_estado,df])\n",
    "\n",
    "prata_idh_estado = prata_idh + '/IdhEstado.csv'\n",
    "\n",
    "if(CriarDiretorioPrata(prata_idh)):\n",
    "    # É realizado somente o append do dados da BRONZE para a PRATA\n",
    "    df.to_csv(prata_idh_estado, mode='a', encoding='utf-8', sep=';',index=False)\n",
    "        \n",
    "del df\n",
    "del idh_estado_json"
   ]
  },
  {
   "cell_type": "markdown",
   "id": "52d70884-6ff9-4ccd-95c2-ed24096809ec",
   "metadata": {},
   "source": [
    "### Município (IDHM)"
   ]
  },
  {
   "cell_type": "code",
   "execution_count": 148,
   "id": "8d29b3aa-5aef-4323-8861-6af90000b53e",
   "metadata": {},
   "outputs": [],
   "source": [
    "bronze_idhm = bronze_idh + '/idhm' \n",
    "idhm_json = glob.glob(bronze_idhm+'/**/*.json', recursive=True)\n",
    "idhm_json = [json.replace('\\\\', '/') for json in idhm_json]\n",
    "\n",
    "idhm_json = [idhm for idhm in idhm_json if '_idhm_' in idhm and data_ingestao in idhm]\n",
    "\n",
    "df = pd.DataFrame()\n",
    "for idhm_arquivo in idhm_json:\n",
    "       \n",
    "    with open(idhm_arquivo) as f:\n",
    "        idhm = json.load(f)\n",
    "        idhm = pd.json_normalize(idhm[0]['res'])\n",
    "        idhm['data_ingestao'] = datetime.strptime(data_ingestao, '%Y%m%d')\n",
    "        df = pd.concat([idhm,df])\n",
    "\n",
    "prata_idhm = prata_idh + '/IdhMunicipio.csv'\n",
    "\n",
    "if(CriarDiretorioPrata(prata_idh)):\n",
    "    # É realizado somente o append do dados da BRONZE para a PRATA\n",
    "    df.to_csv(prata_idhm, mode='a', encoding='utf-8', sep=';',index=False)\n",
    "\n",
    "del df\n",
    "del prata_idhm"
   ]
  },
  {
   "cell_type": "markdown",
   "id": "8607800b-9d21-4413-ba86-3f60d849857f",
   "metadata": {
    "jp-MarkdownHeadingCollapsed": true
   },
   "source": [
    "# Camada Ouro"
   ]
  },
  {
   "cell_type": "markdown",
   "id": "8b9f7e3d-6c2d-467b-8663-7fcd259544b8",
   "metadata": {},
   "source": [
    "### Funções"
   ]
  },
  {
   "cell_type": "code",
   "execution_count": 178,
   "id": "c487165c-8d18-48e2-a4c8-bdca2bc5297f",
   "metadata": {},
   "outputs": [],
   "source": [
    "def CreatePkPopulacao(idMunicipio,Ano,idSexo,idRangeIdade,idCorERaca):\n",
    "    idSexoNan = float(idSexo)\n",
    "    idRangeIdadeNan = float(idRangeIdade)\n",
    "    idCorERacaNan = float(idCorERaca)\n",
    "    pk = ''\n",
    "    \n",
    "    if np.isnan(idSexoNan) and ~np.isnan(idRangeIdadeNan) and ~np.isnan(idCorERacaNan):\n",
    "        pk = str(idMunicipio) + str(Ano) + str(idRangeIdade) + str(idCorERaca)\n",
    "        \n",
    "    elif ~np.isnan(idSexoNan) and np.isnan(idRangeIdadeNan) and ~np.isnan(idCorERacaNan):\n",
    "        pk = str(idMunicipio) + str(Ano) + str(idSexo) + str(idSexo) + str(idCorERaca)\n",
    "\n",
    "    elif ~np.isnan(idSexoNan) and ~np.isnan(idRangeIdadeNan) and np.isnan(idCorERacaNan):\n",
    "        pk = str(idMunicipio) + str(Ano) + str(idSexo) + str(idRangeIdade)\n",
    "        \n",
    "    elif np.isnan(idCorERacaNan) and np.isnan(idSexoNan) and np.isnan(idCorERacaNan):\n",
    "        pk = str(idMunicipio) +str(Ano)  \n",
    "        \n",
    "    else:\n",
    "         pk = str(idMunicipio) + str(Ano) + str(idSexo) + str(idRangeIdade) + str(idCorERaca)\n",
    "        \n",
    "    return pk"
   ]
  },
  {
   "cell_type": "code",
   "execution_count": 150,
   "id": "b78c557d-c334-4c1f-93c1-c9312a685967",
   "metadata": {},
   "outputs": [],
   "source": [
    "def ConverterNumero(num):\n",
    "    ret = 0\n",
    "    \n",
    "    # Verificar o campo se tem valor númerico nos formatos:  123 |.123 |1,23 \n",
    "    p = r'[\\d]+[.,\\d]+|[\\d]*[.][\\d]+|[\\d]+'\n",
    "    ret = re.findall(p, str(num))[0] if re.search(p, str(num)) else 0\n",
    "    \n",
    "    return ret"
   ]
  },
  {
   "cell_type": "code",
   "execution_count": 199,
   "id": "8c9a9b24-3a9c-41fc-8c24-8f61dbdaff93",
   "metadata": {},
   "outputs": [],
   "source": [
    "def CreatePkFatoIbge(PkIdMunicipio,Ano,PkPopulacao,PkPib,PkIdhMunicipio):\n",
    "      \n",
    "    pk = ''\n",
    "    \n",
    "    if ~pd.isnull(PkPopulacao) and pd.isnull(PkPib) and pd.isnull(PkIdhMunicipio):\n",
    "        pk = str(PkIdMunicipio) + str(Ano) + str(PkPopulacao) \n",
    "        \n",
    "    elif pd.isnull(PkPopulacao) and ~pd.isnull(PkPib) and pd.isnull(PkIdhMunicipio):\n",
    "        pk = str(PkIdMunicipio) + str(Ano) + str(PkPib) \n",
    "\n",
    "    elif  pd.isnull(PkPopulacao) and pd.isnull(PkPib) and ~pd.isnull(PkIdhMunicipio):\n",
    "        pk = str(PkIdMunicipio) + str(Ano) + str(PkIdhMunicipio)\n",
    "        \n",
    "    elif pd.isnull(PkPopulacao) and pd.isnull(PkPib) and pd.isnull(PkIdhMunicipio):\n",
    "        pk = str(PkIdMunicipio) +str(Ano)  \n",
    "        \n",
    "    else:\n",
    "         pk = str(PkIdMunicipio) + str(Ano) + str(PkPopulacao) + str(PkPib) + str(PkIdhMunicipio)\n",
    "        \n",
    "    return pk"
   ]
  },
  {
   "cell_type": "markdown",
   "id": "e56a5aa1-e9b4-4d15-be8b-2a19f61f98b6",
   "metadata": {
    "jp-MarkdownHeadingCollapsed": true
   },
   "source": [
    "## Localidade"
   ]
  },
  {
   "cell_type": "code",
   "execution_count": 151,
   "id": "0317dd50-e75a-45ab-83b0-2175e3c611f7",
   "metadata": {},
   "outputs": [],
   "source": [
    "estado = pd.read_csv(prata_localidades + '/estados.csv',sep=';')  \n",
    "\n",
    "#Filtrando somente as colunas necessárias\n",
    "estado = estado[['id','sigla','nome','regiao.nome']]\n",
    "estado = estado.rename(columns={'id': \"IdEstado\",'sigla':'Uf','nome':'Estado','regiao.nome':'Regiao'})\n",
    "\n",
    "municipio = pd.read_csv(prata_localidades + '/municipios.csv',sep=';')  \n",
    "\n",
    "municipio = municipio[['id','nome','microrregiao.mesorregiao.UF.id']]\n",
    "municipio = municipio.rename(columns={'id': \"PkIdMunicipio\",'nome':'Municipio','microrregiao.mesorregiao.UF.id':'IdEstado'})\n",
    "\n",
    "localidade_ouro = diretorio_ouro + '/localidade.csv'\n",
    "pd.merge(municipio, estado, on='IdEstado', how='inner').to_csv(localidade_ouro, encoding='utf-8', sep=';',index=False)"
   ]
  },
  {
   "cell_type": "markdown",
   "id": "dccda827-c161-4219-849b-4917b057fad0",
   "metadata": {
    "jp-MarkdownHeadingCollapsed": true
   },
   "source": [
    "## População"
   ]
  },
  {
   "cell_type": "code",
   "execution_count": 160,
   "id": "9798998a-7f69-4309-9b73-68b041995987",
   "metadata": {},
   "outputs": [],
   "source": [
    "cor_racas = pd.read_csv(prata_populacao + '/populacao_cor_racas.csv',sep=';')  \n",
    "\n",
    "# ------------------------------------ Criando df população cor e raça ------------------------------------ #\n",
    "\n",
    "#Filtro somente os municípios\n",
    "cor_racas = cor_racas[cor_racas['NC'] == '6']\n",
    "\n",
    "#Filtrando somente as colunas necessárias\n",
    "cor_racas = cor_racas[['D1C','D3N','D4C','D4N','V']]\n",
    "\n",
    "filter = cor_racas['D1C'].str.contains('Código')\n",
    "cor_racas = cor_racas[~filter]\n",
    "cor_racas = cor_racas.rename(columns={'D1C': \"IdMunicipio\",\n",
    "                        'D3N':'Ano',\n",
    "                        'D4C':'IdCorERaca',\n",
    "                        'D4N':'CorERaca',\n",
    "                        'V':'QuantidadeCorERaca'\n",
    "                  })\n",
    "\n",
    "# ------------------------------------ Criando df população sexo e range ------------------------------------ #\n",
    "\n",
    "sexo_idade = pd.read_csv(prata_populacao + '/populacao_sexo_idade.csv',sep=';')  \n",
    "\n",
    "#Filtro somente os municípios\n",
    "sexo_idade = sexo_idade[sexo_idade['NC'] == '6']\n",
    "\n",
    "#Filtrando somente as colunas necessárias\n",
    "sexo_idade = sexo_idade[['D1C','D3N','D4C','D4N','D5C','D5N','V']]\n",
    "filter = sexo_idade['D1C'].str.contains('Código')\n",
    "sexo_idade = sexo_idade[~filter]\n",
    "sexo_idade = sexo_idade.rename(columns={'D1C': \"IdMunicipio\",\n",
    "                       'D3N':'Ano',\n",
    "                        'D4C':'IdSexo',\n",
    "                        'D4N':'Sexo',\n",
    "                        'D5C':'IdRangeIdade',\n",
    "                        'D5N':'RangeIdade',\n",
    "                        'V':'QuantidadeSexoRangeIdade'\n",
    "                  })\n",
    "\n",
    "# ------------------------------------ Criando df população cor e raça ------------------------------------ #\n",
    "populacao = pd.merge(sexo_idade, cor_racas, on=['IdMunicipio','Ano'], how='outer')\n",
    "\n",
    "populacao['PkPopulacao'] = populacao.apply(lambda x: \\\n",
    "                            CreatePkPopulacao(x['IdMunicipio'], x['Ano'],x['IdSexo'],x['IdRangeIdade'],x['IdCorERaca']) \\\n",
    "                            ,axis=1)\n",
    "\n",
    "# Tipando as colunas númericos\n",
    "populacao['IdMunicipio'] = populacao['IdMunicipio'].astype('Int64')\n",
    "populacao['Ano'] = populacao['Ano'].astype('Int64')\n",
    "populacao['IdSexo'] = populacao['IdSexo'].astype('Int64')\n",
    "populacao['IdRangeIdade'] = populacao['IdRangeIdade'].astype('Int64')\n",
    "populacao['QuantidadeSexoRangeIdade'] = populacao['QuantidadeSexoRangeIdade'].apply(lambda x: ConverterNumero(x))\n",
    "populacao['QuantidadeCorERaca'] = populacao['QuantidadeCorERaca'].apply(lambda x: ConverterNumero(x))\n",
    "populacao['IdCorERaca'] = populacao['IdCorERaca'].astype('Int64')\n",
    "\n",
    "populacao_ouro = diretorio_ouro + '/populacao.csv'\n",
    "populacao.to_csv(populacao_ouro, encoding='utf-8', sep=';',index=False)\n",
    "\n",
    "del populacao, sexo_idade, cor_racas"
   ]
  },
  {
   "cell_type": "markdown",
   "id": "f49c799e-31cc-48c8-8cb4-3f66c2696574",
   "metadata": {
    "jp-MarkdownHeadingCollapsed": true
   },
   "source": [
    "## IDH"
   ]
  },
  {
   "cell_type": "code",
   "execution_count": 153,
   "id": "757734d5-59b9-432e-9aaf-13e005053877",
   "metadata": {},
   "outputs": [],
   "source": [
    "ihdMunicipio = pd.read_csv(prata_idh + '/IdhMunicipio.csv',sep=';')  \n",
    "\n",
    "#Filtrando somente as colunas necessárias\n",
    "ihdMunicipio = ihdMunicipio.filter(regex='re.|localidade')\n",
    "ihdMunicipio = ihdMunicipio.dropna(axis=1, how='all')\n",
    "\n",
    "#Criação do df com a seguinte estrutura: IdMunicipio, Ano e Valor\n",
    "df_ihdMunicipio = pd.DataFrame()\n",
    "for index, row in ihdMunicipio.iterrows():\n",
    "     \n",
    "    # Lendo as colunas da linha\n",
    "    for col in row.index:\n",
    "         \n",
    "         # Seleciondo os anos\n",
    "        if len(re.findall(r'\\d+', col)) > 0:\n",
    "            row_new = {'IdMunicipio':[int(row['localidade'])],'Ano': re.findall(r'\\d+', col) ,'Valor': [row[col]]}\n",
    "            row_new = pd.DataFrame(row_new) \n",
    "            df_ihdMunicipio = pd.concat([row_new,df_ihdMunicipio]) \n",
    "\n",
    "#Criando a PK\n",
    "df_ihdMunicipio[\"PkIdhMunicipio\"] = df_ihdMunicipio['IdMunicipio'].astype(str) + df_ihdMunicipio[\"Ano\"]\n",
    "\n",
    "df_ihdMunicipio = df_ihdMunicipio.rename(columns={'Valor': \"ValorIhdMunicipio\"})\n",
    "\n",
    "# Tipando a coluna númerico\n",
    "df_ihdMunicipio['ValorIhdMunicipio'] = df_ihdMunicipio['ValorIhdMunicipio'].apply(lambda x: ConverterNumero(x))\n",
    "\n",
    "ihdMunicipio_ouro = diretorio_ouro + '/ihd_municipio.csv'\n",
    "\n",
    "pd.merge(df_ihdMunicipio, municipio[['PkIdMunicipio','IdEstado']], \\\n",
    "         left_on=['IdMunicipio'], right_on=['PkIdMunicipio'], how='inner') \\\n",
    "        .to_csv(ihdMunicipio_ouro, encoding='utf-8', sep=';',index=False)\n",
    "\n",
    "del df_ihdMunicipio, ihdMunicipio"
   ]
  },
  {
   "cell_type": "code",
   "execution_count": 154,
   "id": "61297f6c-73db-432f-8933-25cc3dffd488",
   "metadata": {},
   "outputs": [],
   "source": [
    "ihdEstado = pd.read_csv(prata_idh + '/IdhEstado.csv',sep=';')  \n",
    "\n",
    "#Filtrando somente as colunas necessárias\n",
    "ihdEstado = ihdEstado.filter(regex='re.|localidade')\n",
    "ihdEstado = ihdEstado.dropna(axis=1, how='all')\n",
    "\n",
    "#Criação do df com a seguinte estrutura: IdMunicipio, Ano e Valor\n",
    "df = pd.DataFrame()\n",
    "for index, row in ihdEstado.iterrows():\n",
    "    \n",
    "     # Lendo as colunas da linha\n",
    "     for col in row.index:\n",
    "         \n",
    "         # Seleciondo apenas os anos\n",
    "        if len(re.findall(r'\\d+', col)) > 0:\n",
    "            row_new = {'IdEstado':[int(row['localidade'])],'Ano': re.findall(r'\\d+', col) ,'Valor': [row[col]]}\n",
    "            row_new = pd.DataFrame(row_new) \n",
    "            df = pd.concat([row_new,df]) \n",
    "\n",
    "#Criando a PK\n",
    "df[\"PkIdEstado\"] = df['IdEstado'].astype(str) + df[\"Ano\"]\n",
    "\n",
    "df = df.rename(columns={'Valor': \"ValorIhdEstado\"})\n",
    "\n",
    "# Tipando a coluna númerico\n",
    "df['ValorIhdEstado'] = df['ValorIhdEstado'].apply(lambda x: ConverterNumero(x))\n",
    "\n",
    "ihdEstado = df\n",
    "del df\n",
    "\n",
    "ihdEstado_ouro = diretorio_ouro + '/ihd_estado.csv'\n",
    "ihdEstado.to_csv(ihdEstado_ouro, encoding='utf-8', sep=';',index=False)\n",
    "\n",
    "del ihdEstado"
   ]
  },
  {
   "cell_type": "markdown",
   "id": "b0571c03-bf92-4ec5-b4cc-7975f4a293a5",
   "metadata": {
    "jp-MarkdownHeadingCollapsed": true
   },
   "source": [
    "## PIB"
   ]
  },
  {
   "cell_type": "code",
   "execution_count": 155,
   "id": "db070871-7431-462c-b3e5-cf4323289795",
   "metadata": {},
   "outputs": [],
   "source": [
    "pib = pd.read_csv(prata_pib + '/pib.csv',sep=';')  \n",
    "\n",
    "#Filtrando somente os registros dos municípios\n",
    "pib = pib[pib['NC'] == '6']\n",
    "\n",
    "#Filtrando somente as colunas necessárias\n",
    "pib = pib[['D1C','D3N','V']]\n",
    "filter = pib['D1C'].str.contains('Código')\n",
    "pib = pib[~filter]\n",
    "pib = pib.rename(columns={'D1C': \"IdMunicipio\",'D3N':'Ano','V':'ValorPib'})\n",
    "\n",
    "#Criando a PK\n",
    "pib[\"PkPib\"] = pib['IdMunicipio'].astype(str) + pib[\"Ano\"]\n",
    "\n",
    "# Tipando a coluna númerico\n",
    "pib['ValorPib'] = pib['ValorPib'].apply(lambda x: ConverterNumero(x))\n",
    "pib['IdMunicipio'] = pib['IdMunicipio'].astype('Int64')\n",
    "pib['Ano'] = pib['Ano'].astype('Int64')\n",
    "\n",
    "# Gerando a tabela da ouro\n",
    "pib_bruto_ouro = diretorio_ouro + '/pib.csv'\n",
    "\n",
    "pd.merge(pib, municipio[['PkIdMunicipio','IdEstado']],left_on=['IdMunicipio'], right_on=['PkIdMunicipio'], how='inner') \\\n",
    "    .to_csv(pib_bruto_ouro, encoding='utf-8', sep=';',index=False)\n",
    "\n",
    "del pib, municipio, estado"
   ]
  },
  {
   "cell_type": "markdown",
   "id": "2b40ad98-1085-4a40-8920-85d998cc723e",
   "metadata": {},
   "source": [
    "## Fato IBGE"
   ]
  },
  {
   "cell_type": "code",
   "execution_count": 156,
   "id": "64bda4c1-76ff-46ff-a685-e62adf0544c6",
   "metadata": {},
   "outputs": [],
   "source": [
    "localidade = pd.read_csv(diretorio_ouro + '/localidade.csv',sep=';')  \n",
    "populacao = pd.read_csv(diretorio_ouro + '/populacao.csv',sep=';')  \n",
    "ihdEstado = pd.read_csv(diretorio_ouro + '/ihd_estado.csv',sep=';')  \n",
    "ihdMunicipio = pd.read_csv(diretorio_ouro + '/ihd_municipio.csv',sep=';')  \n",
    "pib = pd.read_csv(diretorio_ouro + '/pib.csv',sep=';')  "
   ]
  },
  {
   "cell_type": "code",
   "execution_count": 157,
   "id": "8545ae9e-afd6-43da-8e6f-a5493808cd70",
   "metadata": {},
   "outputs": [],
   "source": [
    "# Tabelas de suporte para a criação da Fato IBGE\n",
    "\n",
    "fato_localidade = localidade[['PkIdMunicipio','IdEstado']]\n",
    "fato_populacao = populacao[['PkPopulacao','IdMunicipio','Ano','IdSexo','IdRangeIdade','QuantidadeSexoRangeIdade','IdCorERaca','QuantidadeCorERaca']]\n",
    "fato_pib = pib[['PkPib','IdMunicipio','IdEstado','Ano','ValorPib']]"
   ]
  },
  {
   "cell_type": "code",
   "execution_count": 158,
   "id": "42d02e2e-40e1-4bff-9a9e-81d0ef41cac8",
   "metadata": {},
   "outputs": [],
   "source": [
    "# ------------------------ Merge entre a Localidade e População ------------------------\n",
    "fatoIbge = pd.merge(fato_localidade, fato_populacao,left_on='PkIdMunicipio', right_on='IdMunicipio', how='inner').drop('IdMunicipio', axis=1)\n",
    "\n",
    "# ------------------------ Merge com PIB ------------------------\n",
    "fatoIbge = pd.merge(fatoIbge, fato_pib, left_on=['PkIdMunicipio','Ano'], right_on=['IdMunicipio','Ano'], how='outer')\n",
    "               \n",
    "# Atualizar a PkIdMunicipio\n",
    "fatoIbge.loc[fatoIbge['PkIdMunicipio'].isna(), 'PkIdMunicipio'] = fatoIbge['IdMunicipio']\n",
    "\n",
    "# Atualizar a IdEstado\n",
    "fatoIbge.loc[fatoIbge['IdEstado_x'].isna(), 'IdEstado_x'] = fatoIbge['IdEstado_y']\n",
    "\n",
    "fatoIbge = fatoIbge.rename(columns={'IdEstado_x': 'IdEstado'}).drop('IdEstado_y', axis=1)\n",
    "\n",
    "\n",
    "# ------------------------ Merge com IHD Município (IHDM) ------------------------\n",
    "fatoIbge = pd.merge(fatoIbge, ihdMunicipio, \\\n",
    "            left_on=['PkIdMunicipio','Ano'], right_on=['PkIdMunicipio','Ano'], how='outer')\n",
    "\n",
    "# Atualizar a IdEstado\n",
    "fatoIbge.loc[fatoIbge['IdEstado_x'].isna(), 'IdEstado_x'] = \\\n",
    "    fatoIbge[~fatoIbge['IdEstado_y'].isna()]['IdEstado_y']\n",
    "\n",
    "fatoIbge = fatoIbge.rename(columns={'IdEstado_x':'IdEstado'}) \\\n",
    "                     .drop(['IdMunicipio_x','IdMunicipio_y','IdEstado_y'], axis=1)\n",
    "\n",
    "\n",
    "# ------------------------ Merge com IHD Estado ------------------------\n",
    "fatoIbge = pd.merge(fatoIbge, ihdEstado,left_on=['IdEstado','Ano'], right_on=['IdEstado','Ano'], how='outer')\n",
    "\n",
    "# Atualizar os campos das quantidades e valores para 0 caso for nulo\n",
    "fatoIbge['QuantidadeSexoRangeIdade'].fillna(0, inplace=True)\n",
    "fatoIbge['ValorIhdMunicipio'].fillna(0, inplace=True)\n",
    "fatoIbge['QuantidadeCorERaca'].fillna(0, inplace=True)\n",
    "fatoIbge['ValorPib'].fillna(0, inplace=True)\n",
    "fatoIbge['ValorIhdMunicipio'].fillna(0, inplace=True)\n",
    "fatoIbge['ValorIhdEstado'].fillna(0, inplace=True)\n",
    "\n",
    "# Criando a PK\n",
    "fatoIbge['PkFatoIbge'] = fatoIbge.apply(lambda x: \\\n",
    "                            CreatePkFatoIbge(x['PkIdMunicipio'], x['Ano'],x['PkPopulacao'],x['PkPib'],x['PkIdhMunicipio']) \\\n",
    "                            ,axis=1)\n",
    "\n",
    "fatoIbge.to_csv(diretorio_ouro + '/fato_ibge.csv', encoding='utf-8', sep=';',index=False)\n",
    "del fatoIbge,pib,ihdMunicipio,ihdEstado,populacao,localidade,fato_localidade,fato_populacao,fato_pib"
   ]
  },
  {
   "cell_type": "markdown",
   "id": "14402a42-9258-4ee8-ba11-303677f83890",
   "metadata": {},
   "source": [
    "# Término Log"
   ]
  },
  {
   "cell_type": "code",
   "execution_count": 159,
   "id": "4872832a-3ded-4e39-966a-0b5d9e46bd7a",
   "metadata": {},
   "outputs": [
    {
     "name": "stdout",
     "output_type": "stream",
     "text": [
      "Tempo do processamento da criação dos dados nas 3 camadas 23654.733254909515.\n"
     ]
    }
   ],
   "source": [
    "main_end = time.time()\n",
    "print(\"Tempo do processamento da criação dos dados nas 3 camadas {}.\".format(main_end - main_start))"
   ]
  }
 ],
 "metadata": {
  "kernelspec": {
   "display_name": "Python 3 (ipykernel)",
   "language": "python",
   "name": "python3"
  },
  "language_info": {
   "codemirror_mode": {
    "name": "ipython",
    "version": 3
   },
   "file_extension": ".py",
   "mimetype": "text/x-python",
   "name": "python",
   "nbconvert_exporter": "python",
   "pygments_lexer": "ipython3",
   "version": "3.12.1"
  }
 },
 "nbformat": 4,
 "nbformat_minor": 5
}
